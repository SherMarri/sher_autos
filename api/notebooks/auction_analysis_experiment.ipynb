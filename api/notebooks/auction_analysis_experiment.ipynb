{
 "cells": [
  {
   "cell_type": "code",
   "execution_count": 1,
   "id": "cbf720c8-6584-4961-8465-8539574e080d",
   "metadata": {},
   "outputs": [],
   "source": [
    "import psycopg2 as pg\n",
    "import pandas as pd\n",
    "import matplotlib.pyplot as plt\n",
    "\n",
    "pd.set_option(\"display.max_rows\", 100)"
   ]
  },
  {
   "cell_type": "code",
   "execution_count": 2,
   "id": "da92f5ef-23e0-4b5c-be06-ae3a0a69f980",
   "metadata": {},
   "outputs": [
    {
     "ename": "OperationalError",
     "evalue": "connection to server at \"localhost\" (127.0.0.1), port 5432 failed: Connection refused\n\tIs the server running on that host and accepting TCP/IP connections?\nconnection to server at \"localhost\" (::1), port 5432 failed: Cannot assign requested address\n\tIs the server running on that host and accepting TCP/IP connections?\n",
     "output_type": "error",
     "traceback": [
      "\u001b[0;31m---------------------------------------------------------------------------\u001b[0m",
      "\u001b[0;31mOperationalError\u001b[0m                          Traceback (most recent call last)",
      "Input \u001b[0;32mIn [2]\u001b[0m, in \u001b[0;36m<cell line: 1>\u001b[0;34m()\u001b[0m\n\u001b[0;32m----> 1\u001b[0m connection \u001b[38;5;241m=\u001b[39m \u001b[43mpg\u001b[49m\u001b[38;5;241;43m.\u001b[39;49m\u001b[43mconnect\u001b[49m\u001b[43m(\u001b[49m\u001b[38;5;124;43m\"\u001b[39;49m\u001b[38;5;124;43mhost=localhost dbname=autos_db user=postgres\u001b[39;49m\u001b[38;5;124;43m\"\u001b[39;49m\u001b[43m)\u001b[49m\n",
      "File \u001b[0;32m/usr/local/lib/python3.9/site-packages/psycopg2/__init__.py:122\u001b[0m, in \u001b[0;36mconnect\u001b[0;34m(dsn, connection_factory, cursor_factory, **kwargs)\u001b[0m\n\u001b[1;32m    119\u001b[0m     kwasync[\u001b[38;5;124m'\u001b[39m\u001b[38;5;124masync_\u001b[39m\u001b[38;5;124m'\u001b[39m] \u001b[38;5;241m=\u001b[39m kwargs\u001b[38;5;241m.\u001b[39mpop(\u001b[38;5;124m'\u001b[39m\u001b[38;5;124masync_\u001b[39m\u001b[38;5;124m'\u001b[39m)\n\u001b[1;32m    121\u001b[0m dsn \u001b[38;5;241m=\u001b[39m _ext\u001b[38;5;241m.\u001b[39mmake_dsn(dsn, \u001b[38;5;241m*\u001b[39m\u001b[38;5;241m*\u001b[39mkwargs)\n\u001b[0;32m--> 122\u001b[0m conn \u001b[38;5;241m=\u001b[39m \u001b[43m_connect\u001b[49m\u001b[43m(\u001b[49m\u001b[43mdsn\u001b[49m\u001b[43m,\u001b[49m\u001b[43m \u001b[49m\u001b[43mconnection_factory\u001b[49m\u001b[38;5;241;43m=\u001b[39;49m\u001b[43mconnection_factory\u001b[49m\u001b[43m,\u001b[49m\u001b[43m \u001b[49m\u001b[38;5;241;43m*\u001b[39;49m\u001b[38;5;241;43m*\u001b[39;49m\u001b[43mkwasync\u001b[49m\u001b[43m)\u001b[49m\n\u001b[1;32m    123\u001b[0m \u001b[38;5;28;01mif\u001b[39;00m cursor_factory \u001b[38;5;129;01mis\u001b[39;00m \u001b[38;5;129;01mnot\u001b[39;00m \u001b[38;5;28;01mNone\u001b[39;00m:\n\u001b[1;32m    124\u001b[0m     conn\u001b[38;5;241m.\u001b[39mcursor_factory \u001b[38;5;241m=\u001b[39m cursor_factory\n",
      "\u001b[0;31mOperationalError\u001b[0m: connection to server at \"localhost\" (127.0.0.1), port 5432 failed: Connection refused\n\tIs the server running on that host and accepting TCP/IP connections?\nconnection to server at \"localhost\" (::1), port 5432 failed: Cannot assign requested address\n\tIs the server running on that host and accepting TCP/IP connections?\n"
     ]
    }
   ],
   "source": [
    "connection = pg.connect(\"host=autos_postgres dbname=autos_db user=postgres\")"
   ]
  },
  {
   "cell_type": "code",
   "execution_count": null,
   "id": "20cbcdf1-54d9-4c96-b9b7-4bdab6f63ff6",
   "metadata": {},
   "outputs": [],
   "source": [
    "df = pd.read_sql('SELECT * FROM carfirst_auction WHERE highest_bid > 0', con=connection)\n",
    "df[\"vehicle_name\"] = df[\"title\"] + \" \" + df[\"subtitle\"]"
   ]
  },
  {
   "cell_type": "code",
   "execution_count": null,
   "id": "3706b551-f7de-4c25-8607-81f1f361abf4",
   "metadata": {},
   "outputs": [],
   "source": [
    "df[\"highest_bid\"] = df[\"highest_bid\"]/100000\n",
    "df.head()"
   ]
  },
  {
   "cell_type": "code",
   "execution_count": null,
   "id": "625e91ef-fdf8-47ac-8504-e3aea3bc2715",
   "metadata": {},
   "outputs": [],
   "source": [
    "print(f'Total Auctions: {len(df)}')"
   ]
  },
  {
   "cell_type": "markdown",
   "id": "83403453-8384-4730-a668-c01d0ccd4b19",
   "metadata": {},
   "source": [
    "# Competitive Auctions"
   ]
  },
  {
   "cell_type": "code",
   "execution_count": null,
   "id": "3320d00b-a186-4833-aa60-3d828ad64955",
   "metadata": {},
   "outputs": [],
   "source": [
    "df.sort_values(by=\"bids_placed\", ascending=False)[[\"title\", \"subtitle\", \"bids_placed\", \"bidders\", \"location\", \"transmission_type\", \"registration_year\", \"color\", \"highest_bid\"]].head()"
   ]
  },
  {
   "cell_type": "markdown",
   "id": "0ef4d24e-c2e7-422f-a1ec-05da94b4c3a2",
   "metadata": {},
   "source": [
    "# Popular Auctions"
   ]
  },
  {
   "cell_type": "code",
   "execution_count": null,
   "id": "e4228a3f-3efa-46eb-9ef0-bb7fc2640b09",
   "metadata": {},
   "outputs": [],
   "source": [
    "df.sort_values(by=\"bidders\", ascending=False)[[\"title\", \"subtitle\", \"highest_bid\", \"bids_placed\", \"bidders\", \"location\", \"transmission_type\", \"registration_year\", \"color\",]].head()"
   ]
  },
  {
   "cell_type": "markdown",
   "id": "1eeb4c1d-d392-40ea-97bc-8522935447c2",
   "metadata": {},
   "source": [
    "# Honda Summary"
   ]
  },
  {
   "cell_type": "code",
   "execution_count": null,
   "id": "53a58bf7-a970-445a-b65f-0d8769290f32",
   "metadata": {},
   "outputs": [],
   "source": [
    "df_toyota = df[df[\"make\"] == \"Honda\"]\n",
    "df_toyota.groupby([\"model\", \"subtitle\", \"registration_year\", \"transmission_type\",]).agg({'highest_bid': ['min', 'max', 'mean', 'median', 'count']})"
   ]
  },
  {
   "cell_type": "markdown",
   "id": "79ff3eef-b089-44c5-a290-48477dacf771",
   "metadata": {},
   "source": [
    "# Toyota Summary"
   ]
  },
  {
   "cell_type": "code",
   "execution_count": null,
   "id": "85e7b95e-b779-44cf-a4dd-9721ef4a2201",
   "metadata": {},
   "outputs": [],
   "source": [
    "df_toyota = df[df[\"make\"] == \"Toyota\"]\n",
    "df_toyota.groupby([\"model\", \"subtitle\", \"registration_year\", \"transmission_type\",]).agg({'highest_bid': ['min', 'max', 'mean', 'median', 'count']})"
   ]
  },
  {
   "cell_type": "markdown",
   "id": "b7633dd5-bf4c-4a56-be95-390a2c91cf47",
   "metadata": {},
   "source": [
    "# Suzuki Summary"
   ]
  },
  {
   "cell_type": "code",
   "execution_count": null,
   "id": "533b9343-51a0-48f6-ae76-251dead96890",
   "metadata": {},
   "outputs": [],
   "source": [
    "df_toyota = df[df[\"make\"] == \"Suzuki\"]\n",
    "df_toyota.groupby([\"model\", \"subtitle\", \"registration_year\", \"transmission_type\",]).agg({'highest_bid': ['min', 'max', 'mean', 'median', 'count']})"
   ]
  },
  {
   "cell_type": "code",
   "execution_count": null,
   "id": "75f462f7-adb9-4a4a-8d16-71a9974a3733",
   "metadata": {},
   "outputs": [],
   "source": []
  }
 ],
 "metadata": {
  "kernelspec": {
   "display_name": "Python 3 (ipykernel)",
   "language": "python",
   "name": "python3"
  },
  "language_info": {
   "codemirror_mode": {
    "name": "ipython",
    "version": 3
   },
   "file_extension": ".py",
   "mimetype": "text/x-python",
   "name": "python",
   "nbconvert_exporter": "python",
   "pygments_lexer": "ipython3",
   "version": "3.9.10"
  }
 },
 "nbformat": 4,
 "nbformat_minor": 5
}
