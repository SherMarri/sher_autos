{
 "cells": [
  {
   "cell_type": "code",
   "execution_count": 1,
   "id": "3b2a3a9e-3ff8-4582-82ed-f772864448a4",
   "metadata": {},
   "outputs": [],
   "source": [
    "import psycopg2 as pg\n",
    "import pandas as pd\n",
    "import matplotlib.pyplot as plt"
   ]
  },
  {
   "cell_type": "code",
   "execution_count": 3,
   "id": "ab89134c-c64d-4a35-9250-36d2bf7b06aa",
   "metadata": {},
   "outputs": [],
   "source": [
    "connection = pg.connect(\"host=autos_postgres dbname=autos_db user=postgres\")"
   ]
  },
  {
   "cell_type": "code",
   "execution_count": 4,
   "id": "a94678cc-4c2e-4738-a7e4-37e2e03c3296",
   "metadata": {},
   "outputs": [
    {
     "name": "stderr",
     "output_type": "stream",
     "text": [
      "/usr/local/lib/python3.9/site-packages/pandas/io/sql.py:761: UserWarning: pandas only support SQLAlchemy connectable(engine/connection) ordatabase string URI or sqlite3 DBAPI2 connectionother DBAPI2 objects are not tested, please consider using SQLAlchemy\n",
      "  warnings.warn(\n"
     ]
    }
   ],
   "source": [
    "title = \"Honda City 2016\"\n",
    "subtitle = \"1.3 i-VTEC\"\n",
    "df = pd.read_sql(f\"SELECT * FROM carfirst_auction WHERE title = '{title}' AND subtitle = '{subtitle}' AND highest_bid > 0\", con=connection)"
   ]
  },
  {
   "cell_type": "code",
   "execution_count": 5,
   "id": "99636de7-25c3-423f-ab58-901c5ef8c78a",
   "metadata": {},
   "outputs": [
    {
     "name": "stdout",
     "output_type": "stream",
     "text": [
      "Total records: 3\n"
     ]
    }
   ],
   "source": [
    "print(f\"Total records: {len(df)}\")"
   ]
  },
  {
   "cell_type": "code",
   "execution_count": 6,
   "id": "784fa678-832c-4bfc-88ae-732353d1255c",
   "metadata": {},
   "outputs": [
    {
     "data": {
      "text/html": [
       "<div>\n",
       "<style scoped>\n",
       "    .dataframe tbody tr th:only-of-type {\n",
       "        vertical-align: middle;\n",
       "    }\n",
       "\n",
       "    .dataframe tbody tr th {\n",
       "        vertical-align: top;\n",
       "    }\n",
       "\n",
       "    .dataframe thead th {\n",
       "        text-align: right;\n",
       "    }\n",
       "</style>\n",
       "<table border=\"1\" class=\"dataframe\">\n",
       "  <thead>\n",
       "    <tr style=\"text-align: right;\">\n",
       "      <th></th>\n",
       "      <th>start_price</th>\n",
       "      <th>highest_bid</th>\n",
       "      <th>bids_placed</th>\n",
       "      <th>bidders</th>\n",
       "      <th>color</th>\n",
       "      <th>transmission_type</th>\n",
       "      <th>location</th>\n",
       "      <th>mileage</th>\n",
       "      <th>reference_id</th>\n",
       "    </tr>\n",
       "  </thead>\n",
       "  <tbody>\n",
       "    <tr>\n",
       "      <th>0</th>\n",
       "      <td>1700000</td>\n",
       "      <td>1908000</td>\n",
       "      <td>38</td>\n",
       "      <td>9</td>\n",
       "      <td>White</td>\n",
       "      <td>Manual</td>\n",
       "      <td>Karachi</td>\n",
       "      <td>93617</td>\n",
       "      <td>PK-1177542</td>\n",
       "    </tr>\n",
       "    <tr>\n",
       "      <th>1</th>\n",
       "      <td>1919000</td>\n",
       "      <td>2105000</td>\n",
       "      <td>31</td>\n",
       "      <td>13</td>\n",
       "      <td>White</td>\n",
       "      <td>Manual</td>\n",
       "      <td>Lahore</td>\n",
       "      <td>82111</td>\n",
       "      <td>PK-1177643</td>\n",
       "    </tr>\n",
       "    <tr>\n",
       "      <th>2</th>\n",
       "      <td>1554000</td>\n",
       "      <td>1795000</td>\n",
       "      <td>46</td>\n",
       "      <td>9</td>\n",
       "      <td>Black</td>\n",
       "      <td>Manual</td>\n",
       "      <td>Karachi</td>\n",
       "      <td>127364</td>\n",
       "      <td>PK-1177725</td>\n",
       "    </tr>\n",
       "  </tbody>\n",
       "</table>\n",
       "</div>"
      ],
      "text/plain": [
       "   start_price  highest_bid  bids_placed  bidders  color transmission_type  \\\n",
       "0      1700000      1908000           38        9  White            Manual   \n",
       "1      1919000      2105000           31       13  White            Manual   \n",
       "2      1554000      1795000           46        9  Black            Manual   \n",
       "\n",
       "  location  mileage reference_id  \n",
       "0  Karachi    93617   PK-1177542  \n",
       "1   Lahore    82111   PK-1177643  \n",
       "2  Karachi   127364   PK-1177725  "
      ]
     },
     "execution_count": 6,
     "metadata": {},
     "output_type": "execute_result"
    }
   ],
   "source": [
    "df[[\"start_price\", \"highest_bid\", \"bids_placed\", \"bidders\", \"color\", \"transmission_type\", \"location\", \"mileage\", \"reference_id\"]]"
   ]
  },
  {
   "cell_type": "code",
   "execution_count": 7,
   "id": "c2ee95b4-f78b-4381-9866-059ea0323ee4",
   "metadata": {},
   "outputs": [
    {
     "data": {
      "text/plain": [
       "<AxesSubplot:title={'center':'highest_bid'}, xlabel='[color]'>"
      ]
     },
     "execution_count": 7,
     "metadata": {},
     "output_type": "execute_result"
    },
    {
     "data": {
      "text/plain": [
       "<Figure size 432x288 with 0 Axes>"
      ]
     },
     "metadata": {},
     "output_type": "display_data"
    },
    {
     "data": {
      "image/png": "[encoded data removed]",
      "text/plain": [
       "<Figure size 1440x720 with 1 Axes>"
      ]
     },
     "metadata": {
      "needs_background": "light"
     },
     "output_type": "display_data"
    }
   ],
   "source": [
    "plt.figure()\n",
    "df.boxplot(column=['highest_bid'], by=['color'], figsize=(20, 10))"
   ]
  },
  {
   "cell_type": "code",
   "execution_count": null,
   "id": "e2d7d717-1114-431c-8e16-5f14f7d0e767",
   "metadata": {},
   "outputs": [],
   "source": []
  }
 ],
 "metadata": {
  "kernelspec": {
   "display_name": "Python 3 (ipykernel)",
   "language": "python",
   "name": "python3"
  },
  "language_info": {
   "codemirror_mode": {
    "name": "ipython",
    "version": 3
   },
   "file_extension": ".py",
   "mimetype": "text/x-python",
   "name": "python",
   "nbconvert_exporter": "python",
   "pygments_lexer": "ipython3",
   "version": "3.9.10"
  }
 },
 "nbformat": 4,
 "nbformat_minor": 5
}
